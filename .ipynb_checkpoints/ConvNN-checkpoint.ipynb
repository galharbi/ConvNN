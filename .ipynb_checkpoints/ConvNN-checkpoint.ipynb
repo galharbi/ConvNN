{
 "cells": [
  {
   "cell_type": "code",
   "execution_count": 1,
   "metadata": {
    "collapsed": false
   },
   "outputs": [],
   "source": [
    "import matplotlib\n",
    "from matplotlib import pyplot as plt\n",
    "from numpy import *\n",
    "import numpy as np\n",
    "import random\n",
    "import scipy.io\n",
    "import sklearn.utils\n",
    "\n",
    "f1 = scipy.io.loadmat('train.mat')\n",
    "%matplotlib inline"
   ]
  },
  {
   "cell_type": "code",
   "execution_count": 796,
   "metadata": {
    "collapsed": false
   },
   "outputs": [],
   "source": [
    "#Input Layer 28x28x1\n",
    "#Convolution Layer\n",
    "#Output Layer 10x1\n",
    "#10 filters, 3x3x1\n",
    "\n",
    "\n",
    "def reshape_x(x): #add bias row to NN input\n",
    "    X = np.reshape(x,(len(x),len(x.T)**2))\n",
    "    X = X/np.max(X)\n",
    "    return X\n",
    "\n",
    "def reshape_y(y,outputSize): #change y from a single value to an array of 10 values corresponding to output \n",
    "    tempy = np.zeros((len(y),outputSize))\n",
    "    for i,r in enumerate(y):\n",
    "        tempy[i][r[0]] = 1\n",
    "    return tempy\n",
    "\n",
    "\n",
    "class NeuralNet(): #single convNet with a single fully connected neural layer, pool layer?\n",
    "    def __init__(self,input_Size,filter_Count,filtered_Size,hidden_Size,output_Size): #add bias later\n",
    "        self.filter_Count = filter_Count\n",
    "        self.input_Size = input_Size\n",
    "        self.filtered_Size = filtered_Size\n",
    "        self.hidden_Size = hidden_Size\n",
    "        self.output_Size = output_Size\n",
    "\n",
    "        filter_Weights = np.random.normal(0,0.01,input_Size*filter_Count)\n",
    "        self.filter_Weights = np.reshape(filter_Weights,(filter_Count,input_Size))\n",
    "\n",
    "        V = np.random.normal(0,0.01,hidden_Size*(filtered_Size))\n",
    "        self.V = np.reshape(V,(hidden_Size,filtered_Size))\n",
    "\n",
    "        W = np.random.normal(0,0.01,output_Size*(hidden_Size))\n",
    "        self.W = np.reshape(W,(output_Size,hidden_Size))\n",
    "        \n",
    "    def forward(self, inputs):\n",
    "        self.r = random.randint(0,self.filter_Count-1)\n",
    "        filter_train = np.array([self.filter_Weights[self.r]])\n",
    "        \n",
    "        self.conv_Vals = np.dot(filter_train,inputs.T) # FX\n",
    "        self.activation_conv = self.activation_fnc1(self.conv_Vals).T # f(FX)\n",
    "\n",
    "        self.hidden_Vals = np.dot(self.V,self.activation_conv) # Vf(FX)\n",
    "        self.activation_H = self.activation_fnc2(self.hidden_Vals) # f(Vf(FX))\n",
    "   \n",
    "        \n",
    "        self.pre_guess = np.dot(self.W,self.activation_H)  # Wf(Vf(FX))\n",
    "        self.guess = self.activation_fnc3(self.pre_guess)  # f(Wf(Vf(FX)))\n",
    "        \n",
    "        \n",
    "        \n",
    "    def meanSquared(self,inputs,outputs):\n",
    "        self.forward(inputs)\n",
    "        return sum((outputs-self.guess)**2)/2\n",
    "    \n",
    "    \n",
    "    def meanSquaredBack(self,inputs,outputs):\n",
    "       \n",
    "        self.forward(inputs) # f(Wf(Vf(FX)))\n",
    "        \n",
    "        back1 = (-outputs+self.guess)*self.activation_fnc1(self.pre_guess,True) #(-y+y_h)f'(Wf(Vf(FX)))\n",
    "        dW = np.dot(back1,self.activation_H.T) # (-y+y_h)f'(Wf(Vf(FX))) f(Vf(FX))\n",
    "        \n",
    "        back2 = np.dot(self.W.T,back1)*self.activation_fnc2(self.hidden_Vals,True) #(-y+y_h)f'(Wf(Vf(FX))) W  f'(Vf(FX))\n",
    "        dV = np.dot(back2,self.activation_conv.T) #(-y+y_h)f'(Wf(Vf(FX))) W  f'(Vf(FX)) f(FX)\n",
    "        \n",
    "        back3 = np.dot(self.V.T,back2).T*self.activation_fnc3(self.conv_Vals,True) #(-y+y_h)f'(Wf(Vf(FX))) W  f'(Vf(FX)) V f'(FX)\n",
    "        dF = np.dot(back3,inputs) #(-y+y_h)f'(Wf(Vf(FX))) W  f'(Vf(FX)) V f'(FX) X\n",
    "        return dF, dV, dW\n",
    "        \n",
    "        \n",
    "    def update_Weights(self, updates, step_size):\n",
    "        self.filter_Weights[self.r] -= (updates[0]*step_size).ravel()\n",
    "        self.V -= updates[1]*step_size\n",
    "        self.W -= updates[2]*step_size\n",
    "        \n",
    "        \n",
    "    def activation_fnc1(self, z, deriv=False): #currently sigmoid\n",
    "        a = None\n",
    "        if deriv:\n",
    "            a = (1-(1+np.exp(-z))**-1)/(1+np.exp(-z))\n",
    "        else:\n",
    "            a = (1+np.exp(-z))**-1\n",
    "        nans = isnan(a)\n",
    "        a[nans] = 0\n",
    "        return a\n",
    "    \n",
    "    def activation_fnc2(self, z, deriv=False): #currently tanh\n",
    "        a = None\n",
    "        if deriv:\n",
    "            a = 1-np.tanh(z)**2\n",
    "            \n",
    "        else:\n",
    "            a = np.tanh(z)\n",
    "        nans = isnan(a)\n",
    "        a[nans] = 0\n",
    "        return a\n",
    "    \n",
    "    def activation_fnc3(self, z, deriv=False): #currently tanh\n",
    "        a = None\n",
    "        if deriv:\n",
    "            a = 1-np.tanh(z)**2\n",
    "        else:\n",
    "            a = np.tanh(z)\n",
    "        nans = isnan(a)\n",
    "        a[nans] = 0\n",
    "        return a\n",
    "    \n",
    "    def train(self, inputs, outputs, iters, feat_size,e):\n",
    "            \n",
    "        self.inputs = inputs\n",
    "        \n",
    "        self.outputs = reshape_y(outputs,10)\n",
    "        \n",
    "        for i in range(iters):\n",
    "            r = random.randint(0,len(inputs)-1)\n",
    "            dp = im2col(inputs[r].reshape(28,28),feat_size,feat_size) #change to vars\n",
    "#             dp = np.array([inputs[r]])\n",
    "            dpl = np.array([self.outputs[r]]).T\n",
    "            deriv = self.meanSquaredBack(dp,dpl)\n",
    "            if i % 1000 == 0:\n",
    "                count = 0\n",
    "                for i in range(100):\n",
    "                    r = random.randint(0,len(inputs)-1)\n",
    "                    d = im2col(inputs[r].reshape(28,28),feat_size,feat_size)\n",
    "                    a = np.array([self.outputs[r]]).T\n",
    "                    count += self.meanSquared(d,a)\n",
    "                print(count)\n",
    "            self.update_Weights(deriv,e)\n",
    "    \n",
    "    \n",
    "    def predict(self,inputs,box):\n",
    "        dp = im2col(inputs.reshape(28,28),box,box) #change to vars\n",
    "        self.forward(dp)\n",
    "#         self.forward(inputs)\n",
    "        return self.guess\n",
    "    "
   ]
  },
  {
   "cell_type": "code",
   "execution_count": 797,
   "metadata": {
    "collapsed": false
   },
   "outputs": [],
   "source": [
    "def im2col(matrix,box_width,box_height,stride=1): #need to fix stride\n",
    "    height = len(matrix)\n",
    "    width = len(matrix.T)\n",
    "\n",
    "    ret_height = box_width*box_height\n",
    "    ret_width = int(((width-box_width)/stride+1)**2)\n",
    "    \n",
    "    \n",
    "    im_matrix = np.zeros((1,box_width*box_height))\n",
    "    for i in range(height):\n",
    "        for j in range(width):\n",
    "            if (j+box_width <= width) and (i+box_height <= height):\n",
    "                im_matrix = np.append(im_matrix,\n",
    "                                      matrix[i:i+box_height,j:j+box_width].reshape(box_width*box_height))\n",
    "            else:\n",
    "                break\n",
    "    val_matrix = im_matrix.T[box_width*box_height:]\n",
    "    ret_matrix = val_matrix.reshape((ret_width,ret_height))\n",
    "    return ret_matrix\n",
    "    "
   ]
  },
  {
   "cell_type": "code",
   "execution_count": 798,
   "metadata": {
    "collapsed": false
   },
   "outputs": [],
   "source": [
    "y = f1['train_labels']\n",
    "X = np.swapaxes(f1['train_images'],1,0).T\n",
    "\n",
    "X = reshape_x(X)\n",
    "X,y = sklearn.utils.shuffle(X,y,random_state=0)"
   ]
  },
  {
   "cell_type": "code",
   "execution_count": 799,
   "metadata": {
    "collapsed": true
   },
   "outputs": [],
   "source": [
    "box = 5\n",
    "meanNeural = NeuralNet(box**2,25,576,200,10)"
   ]
  },
  {
   "cell_type": "code",
   "execution_count": null,
   "metadata": {
    "collapsed": false
   },
   "outputs": [
    {
     "name": "stdout",
     "output_type": "stream",
     "text": [
      "43.9985246677\n",
      "34.0017761633\n",
      "33.2757672432\n",
      "35.401669795\n",
      "33.7760508666\n",
      "30.1817902011\n",
      "32.6888191113\n",
      "32.0484327084\n",
      "30.725646171\n",
      "29.8901292524\n",
      "31.1290995922\n",
      "28.6798114326\n",
      "27.7624543717\n",
      "27.0813889605\n",
      "25.4697968263\n",
      "26.6816684527"
     ]
    }
   ],
   "source": [
    "meanNeural.train(X,y,10000,box,np.exp(-2))\n",
    "meanNeural.train(X,y,10000,box,np.exp(-3))\n",
    "meanNeural.train(X,y,10000,box,np.exp(-4))\n",
    "meanNeural.train(X,y,10000,box,np.exp(-5))\n",
    "meanNeural.train(X,y,10000,box,np.exp(-6))"
   ]
  },
  {
   "cell_type": "code",
   "execution_count": null,
   "metadata": {
    "collapsed": false
   },
   "outputs": [],
   "source": [
    "count=0\n",
    "for i in range(100):\n",
    "    count += int(np.argmax(meanNeural.predict(X[i],box))==y[i])\n",
    "print(count/100)"
   ]
  },
  {
   "cell_type": "code",
   "execution_count": null,
   "metadata": {
    "collapsed": false
   },
   "outputs": [],
   "source": [
    "plt.imshow(np.dot(im2col(X[10].reshape(28,28),5,5),meanNeural.filter_Weights[3].T).reshape(24,24))"
   ]
  },
  {
   "cell_type": "code",
   "execution_count": null,
   "metadata": {
    "collapsed": false
   },
   "outputs": [],
   "source": [
    "plt.imshow(np.dot(im2col(X[10].reshape(28,28),5,5),meanNeural.filter_Weights[19].T).reshape(24,24))"
   ]
  }
 ],
 "metadata": {
  "kernelspec": {
   "display_name": "Python 3",
   "language": "python",
   "name": "python3"
  },
  "language_info": {
   "codemirror_mode": {
    "name": "ipython",
    "version": 3
   },
   "file_extension": ".py",
   "mimetype": "text/x-python",
   "name": "python",
   "nbconvert_exporter": "python",
   "pygments_lexer": "ipython3",
   "version": "3.4.4"
  }
 },
 "nbformat": 4,
 "nbformat_minor": 0
}
