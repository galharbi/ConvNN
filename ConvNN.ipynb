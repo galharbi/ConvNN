{
 "cells": [
  {
   "cell_type": "code",
   "execution_count": 12,
   "metadata": {
    "collapsed": false
   },
   "outputs": [],
   "source": [
    "import matplotlib\n",
    "from matplotlib import pyplot as plt\n",
    "from numpy import *\n",
    "import numpy as np\n",
    "import random\n",
    "import scipy.io\n",
    "import sklearn.utils\n",
    "\n",
    "f1 = scipy.io.loadmat('train.mat')\n",
    "%matplotlib inline"
   ]
  },
  {
   "cell_type": "code",
   "execution_count": 370,
   "metadata": {
    "collapsed": false
   },
   "outputs": [],
   "source": [
    "#Input Layer 28x28x1\n",
    "#Convolution Layer\n",
    "#Output Layer 10x1\n",
    "#10 filters, 3x3x1\n",
    "\n",
    "\n",
    "def reshape_x(x): #add bias row to NN input\n",
    "    X = np.reshape(x,(len(x),len(x.T)))\n",
    "    X = X/np.max(X)\n",
    "    return X\n",
    "\n",
    "def reshape_y(y,outputSize): #change y from a single value to an array of 10 values corresponding to output \n",
    "    tempy = np.zeros((len(y),outputSize))\n",
    "    for i,r in enumerate(y):\n",
    "        tempy[i][r[0]] = 1\n",
    "    return tempy\n",
    "\n",
    "\n",
    "class NeuralNet(): #single convNet with a single fully connected neural layer, pool layer?\n",
    "    def __init__(self,output_Size,hidden_Size,filter_Size,filter_Count): #add bias later\n",
    "        self.stride = 1\n",
    "        self.padding = 0\n",
    "        self.filter_Count = filter_Count\n",
    "\n",
    "        filter_Weights = np.random.normal(0,0.01,filter_Count*filter_Size**2)\n",
    "        self.filter_Weights = np.reshape(filter_Weights,(filter_Size**2,filter_Count))\n",
    "\n",
    "        V = np.random.normal(0,0.01,hidden_Size*(filter_Count))\n",
    "        self.V = np.reshape(V,(hidden_Size,filter_Count))\n",
    "\n",
    "        W = np.random.normal(0,0.01,output_Size*(hidden_Size))\n",
    "        self.W = np.reshape(W,(output_Size,hidden_Size))\n",
    "\n",
    "        \n",
    "        \n",
    "    def forward(self, inputs):\n",
    "        self.conv_Vals = np.dot(inputs.T, self.filter_Weights)\n",
    "        self.activation_conv = self.activation_fnc(self.conv_Vals)\n",
    "        self.hidden_Vals = np.dot(self.V,self.activation_conv.T) #transpose?\n",
    "        self.activation_H = np.array([self.activation_fnc(np.sum(self.hidden_Vals,axis=1))]).T\n",
    "        self.pre_guess = np.dot(self.W,self.activation_H)\n",
    "\n",
    "        self.guess = self.activation_fnc(self.pre_guess)\n",
    "        \n",
    "    def meanSquared(self,inputs,outputs):\n",
    "        self.forward(inputs)\n",
    "        return sum((outputs-self.guess)**2)/2\n",
    "    \n",
    "    \n",
    "    def meanSquaredBack(self,inputs,outputs): #might need to derive better\n",
    "        self.forward(inputs)\n",
    "#         outputs = np.repeat(outputs,self.filter_Count,axis=0).reshape(10,self.filter_Count) #change 10 to var\n",
    "        back1 = (-outputs+self.guess)*self.activation_fnc(self.pre_guess,True)\n",
    "        dW = np.dot(back1,self.activation_H.T)\n",
    "        back2 = np.dot(self.W.T,back1)*self.activation_fnc(self.hidden_Vals,True)\n",
    "        dV = np.dot(back2,self.activation_conv)\n",
    "        back3 = np.dot(self.V.T,back2)*self.activation_fnc(self.conv_Vals,True).T\n",
    "        dF = np.dot(back3,inputs.T).T\n",
    "        return dF, dV, dW\n",
    "        \n",
    "        \n",
    "    def update_Weights(self, updates, step_size):\n",
    "        self.filter_Weights -= updates[0]*step_size\n",
    "        self.V -= updates[1]*step_size\n",
    "        self.W -= updates[2]*step_size\n",
    "        \n",
    "        \n",
    "    def activation_fnc(self, z, deriv=False): #currently sigmoid\n",
    "        a = None\n",
    "        if deriv:\n",
    "            a = (1-(1+np.exp(-z))**-1)/(1+np.exp(-z))\n",
    "        else:\n",
    "            a = (1+np.exp(-z))**-1\n",
    "        nans = isnan(a)\n",
    "        a[nans] = 0\n",
    "        return a\n",
    "    \n",
    "    \n",
    "    def train(self, inputs, outputs, iters, feat_size):\n",
    "        e = np.exp(-5)\n",
    "            \n",
    "        self.inputs = inputs\n",
    "        \n",
    "        outputs = reshape_y(y,10)\n",
    "        self.outputs = outputs\n",
    "        \n",
    "        for i in range(iters):\n",
    "            r = random.randint(0,len(X)-1)\n",
    "#             dp = im2col(inputs[r],feat_size,feat_size) #change to vars\n",
    "#             dp = reshape_x(dp)\n",
    "            dp = inputs[r]\n",
    "            dpl = np.array([outputs[r]]).T\n",
    "            deriv = self.meanSquaredBack(dp,dpl)\n",
    "            if i % 1000 == 0:\n",
    "                print(self.meanSquared(dp,dpl))\n",
    "            self.update_Weights(deriv,e)\n",
    "    \n",
    "    \n",
    "    def predict(self,inputs,box):\n",
    "#         dp = im2col(inputs,box,box) #change to vars\n",
    "#         dp = reshape_x(dp)\n",
    "        self.forward(inputs)\n",
    "        return self.guess\n",
    "    "
   ]
  },
  {
   "cell_type": "code",
   "execution_count": 371,
   "metadata": {
    "collapsed": false
   },
   "outputs": [],
   "source": [
    "def im2col(matrix,box_width,box_height,stride=1): #need to fix stride\n",
    "    height = len(matrix)\n",
    "    width = len(matrix.T)\n",
    "\n",
    "    ret_height = box_width*box_height\n",
    "    ret_width = int(((width-box_width)/stride+1)**2)\n",
    "    \n",
    "    im_matrix = np.zeros((1,box_width*box_height))\n",
    "    for i in range(height):\n",
    "        for j in range(width):\n",
    "            if (j+box_width <= width) and (i+box_height <= height):\n",
    "                im_matrix = np.append(im_matrix,\n",
    "                                      matrix[i:i+box_height,j:j+box_width].reshape(box_width*box_height))\n",
    "            else:\n",
    "                break\n",
    "    val_matrix = im_matrix.T[box_width*box_height:]\n",
    "    ret_matrix = val_matrix.reshape((ret_height,ret_width))\n",
    "    return ret_matrix\n",
    "    "
   ]
  },
  {
   "cell_type": "code",
   "execution_count": null,
   "metadata": {
    "collapsed": false
   },
   "outputs": [],
   "source": [
    "y = f1['train_labels']\n",
    "X = np.swapaxes(f1['train_images'],1,0).T\n",
    "box = 5\n",
    "h = np.array([im2col(X[i],box,box) for i in range(len(X))]) #change to vars\n",
    "X = reshape_x(X)\n",
    "X,y = sklearn.utils.shuffle(X,y,random_state=0)"
   ]
  },
  {
   "cell_type": "code",
   "execution_count": null,
   "metadata": {
    "collapsed": false
   },
   "outputs": [],
   "source": [
    "meanNeural = NeuralNet(10,100,box,20)\n",
    "meanNeural.train(X,y,100000,box)"
   ]
  },
  {
   "cell_type": "code",
   "execution_count": null,
   "metadata": {
    "collapsed": false
   },
   "outputs": [],
   "source": [
    "var = 50123\n",
    "plt.imshow(X[var])"
   ]
  },
  {
   "cell_type": "code",
   "execution_count": null,
   "metadata": {
    "collapsed": false
   },
   "outputs": [],
   "source": [
    "print(meanNeural.predict(X[var],box))"
   ]
  },
  {
   "cell_type": "code",
   "execution_count": null,
   "metadata": {
    "collapsed": true
   },
   "outputs": [],
   "source": []
  }
 ],
 "metadata": {
  "kernelspec": {
   "display_name": "Python 3",
   "language": "python",
   "name": "python3"
  },
  "language_info": {
   "codemirror_mode": {
    "name": "ipython",
    "version": 3
   },
   "file_extension": ".py",
   "mimetype": "text/x-python",
   "name": "python",
   "nbconvert_exporter": "python",
   "pygments_lexer": "ipython3",
   "version": "3.4.4"
  }
 },
 "nbformat": 4,
 "nbformat_minor": 0
}
