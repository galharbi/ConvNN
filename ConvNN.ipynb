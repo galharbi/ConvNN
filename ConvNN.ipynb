{
 "cells": [
  {
   "cell_type": "code",
   "execution_count": 1,
   "metadata": {
    "collapsed": false
   },
   "outputs": [],
   "source": [
    "import matplotlib\n",
    "from matplotlib import pyplot as plt\n",
    "from numpy import *\n",
    "import numpy as np\n",
    "import random\n",
    "import scipy.io\n",
    "import sklearn.utils\n",
    "\n",
    "f1 = scipy.io.loadmat('train.mat')\n",
    "%matplotlib inline"
   ]
  },
  {
   "cell_type": "code",
   "execution_count": 141,
   "metadata": {
    "collapsed": false
   },
   "outputs": [],
   "source": [
    "#Input Layer 28x28x1\n",
    "#Convolution Layer\n",
    "#Output Layer 10x1\n",
    "#10 filters, 3x3x1\n",
    "\n",
    "\n",
    "def reshape_x(x): #add bias row to NN input\n",
    "#     X = np.reshape(x,(len(x),len(x.T)**2))\n",
    "    X = x/np.max(x)\n",
    "    return x\n",
    "\n",
    "def reshape_y(y,outputSize,filter_Count): #change y from a single value to an array of 10 values corresponding to output \n",
    "    tempy = np.zeros((len(y),outputSize))\n",
    "    for i,r in enumerate(y):\n",
    "        tempy[i][r[0]] = 1\n",
    "    tempy = np.repeat(tempy,filter_Count,axis=0)\n",
    "    return tempy\n",
    "\n",
    "\n",
    "class NeuralNet(): #single convNet with a single fully connected neural layer, pool layer?\n",
    "    def __init__(self,input_Size,filter_Count,filtered_Size,hidden_Size,output_Size): #add bias later\n",
    "        self.filter_Count = filter_Count\n",
    "        self.input_Size = input_Size\n",
    "        self.filtered_Size = filtered_Size\n",
    "        self.hidden_Size = hidden_Size\n",
    "        self.output_Size = output_Size\n",
    "\n",
    "        filter_Weights = np.random.normal(0,0.1,input_Size*filter_Count)\n",
    "        self.filter_Weights = np.reshape(filter_Weights,(filter_Count,input_Size)).T\n",
    "\n",
    "        V = np.random.normal(0,0.001,hidden_Size*(filtered_Size))\n",
    "        self.V = np.reshape(V,(hidden_Size,filtered_Size)).T\n",
    "\n",
    "        W = np.random.normal(0,0.001,output_Size*(hidden_Size))\n",
    "        self.W = np.reshape(W,(output_Size,hidden_Size)).T\n",
    "        \n",
    "    def forward(self, inputs):\n",
    "        filter_train = self.filter_Weights\n",
    "        \n",
    "        self.conv_Vals = np.dot(filter_train.T,inputs) # FX\n",
    "        self.activation_conv = self.activation_fnc1(self.conv_Vals) # f(FX)\n",
    "\n",
    "        self.hidden_Vals = np.dot(self.activation_conv,self.V) # Vf(FX)\n",
    "        self.activation_H = self.activation_fnc2(self.hidden_Vals) # f(Vf(FX))\n",
    "   \n",
    "        \n",
    "        self.pre_guess = np.dot(self.activation_H,self.W)  # Wf(Vf(FX))\n",
    "        self.guess = self.activation_fnc3(self.pre_guess)  # f(Wf(Vf(FX)))\n",
    "        \n",
    "        \n",
    "        \n",
    "    def cross(self,inputs,outputs):\n",
    "        self.forward(inputs)\n",
    "        return -sum((outputs*np.log(self.guess)+(1-outputs)*np.log(1-self.guess)))\n",
    "    \n",
    "    \n",
    "    def crossBack(self,inputs,outputs):\n",
    "       \n",
    "        self.forward(inputs) # f(Wf(Vf(FX)))\n",
    "        \n",
    "        back1 = (-(outputs/self.guess)+(1-outputs)/(1-self.guess))*self.activation_fnc1(self.pre_guess,True) #(-y+y_h)f'(Wf(Vf(FX)))\n",
    "        dW = np.dot(self.activation_H.T,back1) # (-y+y_h)f'(Wf(Vf(FX))) f(Vf(FX))\n",
    "        \n",
    "        back2 = np.dot(back1,self.W.T)*self.activation_fnc2(self.hidden_Vals,True) #(-y+y_h)f'(Wf(Vf(FX))) W  f'(Vf(FX))\n",
    "        dV = np.dot(self.activation_conv.T,back2) #(-y+y_h)f'(Wf(Vf(FX))) W  f'(Vf(FX)) f(FX)\n",
    "        \n",
    "        back3 = np.dot(back2,self.V.T)*self.activation_fnc3(self.conv_Vals,True) #(-y+y_h)f'(Wf(Vf(FX))) W  f'(Vf(FX)) V f'(FX)\n",
    "        dF = np.dot(inputs,back3.T) #(-y+y_h)f'(Wf(Vf(FX))) W  f'(Vf(FX)) V f'(FX) X\n",
    "        return dF, dV, dW\n",
    "        \n",
    "        \n",
    "    def update_Weights(self, updates, step_size):\n",
    "        self.filter_Weights -= updates[0]*step_size\n",
    "        self.V -= updates[1]*step_size\n",
    "        self.W -= updates[2]*step_size\n",
    "        \n",
    "        \n",
    "    def activation_fnc1(self, z, deriv=False): #currently sigmoid\n",
    "        a = None\n",
    "        if deriv:\n",
    "            a = (1-(1+np.exp(-z))**-1)/(1+np.exp(-z))\n",
    "        else:\n",
    "            a = (1+np.exp(-z))**-1\n",
    "        nans = isnan(a)\n",
    "        a[nans] = 0\n",
    "        return a\n",
    "    \n",
    "    def activation_fnc2(self, z, deriv=False): #currently tanh\n",
    "        a = None\n",
    "        if deriv:\n",
    "            a = 1-np.tanh(z)**2\n",
    "        else:\n",
    "            a = np.tanh(z)\n",
    "        nans = isnan(a)\n",
    "        a[nans] = 0\n",
    "        return a\n",
    "    \n",
    "    def activation_fnc3(self, z, deriv=False): #currently tanh\n",
    "        a = None\n",
    "        if deriv:\n",
    "            a = (1-(1+np.exp(-z))**-1)/(1+np.exp(-z))\n",
    "        else:\n",
    "            a = (1+np.exp(-z))**-1\n",
    "        nans = isnan(a)\n",
    "        a[nans] = 0\n",
    "        return a\n",
    "    \n",
    "    def train(self, inputs, outputs, iters, feat_size,e):\n",
    "        self.inputs = inputs\n",
    "        self.outputs = outputs\n",
    "        \n",
    "        for i in range(iters):\n",
    "            r = random.randint(0,len(inputs)-1)\n",
    "            dp = im2col(inputs[r],feat_size,feat_size) #change to vars\n",
    "#             dp = np.array([inputs[r]])\n",
    "            dpl = np.array([self.outputs[r]])\n",
    "            dpl = reshape_y(dpl,10,self.filter_Count)\n",
    "            deriv = self.crossBack(dp,dpl)\n",
    "            if (i+1) % 1000 == 0:\n",
    "                count = 0\n",
    "                for i in range(100):\n",
    "                    r = random.randint(0,len(inputs)-1)\n",
    "                    d = im2col(inputs[r],feat_size,feat_size)\n",
    "                    a = np.array([self.outputs[r]])\n",
    "                    a = reshape_y(a,10,self.filter_Count)\n",
    "                    count += self.cross(d,a)\n",
    "                print(count)\n",
    "            self.update_Weights(deriv,e)\n",
    "    \n",
    "    \n",
    "    def predict(self,inputs,box):\n",
    "        dp = im2col(inputs,box,box) #change to vars\n",
    "        self.forward(dp)\n",
    "#         self.forward(inputs)\n",
    "        return self.guess\n",
    "    "
   ]
  },
  {
   "cell_type": "code",
   "execution_count": 142,
   "metadata": {
    "collapsed": false
   },
   "outputs": [],
   "source": [
    "def im2col(matrix,box_width,box_height,stride=1): #need to fix stride\n",
    "    height = len(matrix)\n",
    "    width = len(matrix.T)\n",
    "\n",
    "    ret_height = box_width*box_height\n",
    "    ret_width = int(((width-box_width)/stride+1)**2)\n",
    "    \n",
    "    \n",
    "    im_matrix = np.zeros((1,box_width*box_height))\n",
    "    for i in range(height):\n",
    "        for j in range(width):\n",
    "            if (j+box_width <= width) and (i+box_height <= height):\n",
    "                im_matrix = np.append(im_matrix,\n",
    "                                      matrix[i:i+box_height,j:j+box_width].reshape(box_width*box_height))\n",
    "            else:\n",
    "                break\n",
    "    val_matrix = im_matrix.T[box_width*box_height:]\n",
    "    ret_matrix = val_matrix.reshape((ret_width,ret_height)).T\n",
    "    return ret_matrix\n",
    "    "
   ]
  },
  {
   "cell_type": "code",
   "execution_count": 143,
   "metadata": {
    "collapsed": false
   },
   "outputs": [],
   "source": [
    "y = f1['train_labels']\n",
    "X = np.swapaxes(f1['train_images'],1,0).T\n",
    "\n",
    "X = reshape_x(X)\n",
    "X,y = sklearn.utils.shuffle(X,y,random_state=0)"
   ]
  },
  {
   "cell_type": "code",
   "execution_count": 172,
   "metadata": {
    "collapsed": false
   },
   "outputs": [],
   "source": [
    "box = 9\n",
    "CrossNN = NeuralNet(box**2,30,400,300,10)"
   ]
  },
  {
   "cell_type": "code",
   "execution_count": null,
   "metadata": {
    "collapsed": false
   },
   "outputs": [
    {
     "name": "stdout",
     "output_type": "stream",
     "text": [
      "1193.03180961\n",
      "1022.35892579\n",
      "977.477133661\n",
      "1219.21766438\n",
      "1388.66660426\n",
      "851.387219063\n",
      "1161.1742175\n",
      "1020.9458283\n",
      "600.456177218\n",
      "1032.54390096\n",
      "1565.03540163\n",
      "1112.23859655\n",
      "768.554004484\n",
      "1785.64353236\n",
      "989.3613204\n",
      "1392.13682191"
     ]
    }
   ],
   "source": [
    "CrossNN.train(X,y,20000,box,np.exp(-15))"
   ]
  },
  {
   "cell_type": "code",
   "execution_count": null,
   "metadata": {
    "collapsed": false
   },
   "outputs": [],
   "source": [
    "h = 0\n",
    "for i in range(100):\n",
    "    r = random.randint(0,len(X)-1001)\n",
    "    h += int(np.argmax(np.average(CrossNN.predict(X[i+r],box),axis=0))==y[i+r])\n",
    "print(h/100)"
   ]
  },
  {
   "cell_type": "code",
   "execution_count": null,
   "metadata": {
    "collapsed": false
   },
   "outputs": [],
   "source": [
    "plt.imshow(np.dot(CrossNN.filter_Weights.T[10].reshape(1,box**2),im2col(X[1056].reshape(28,28),box,box)).reshape(24,24))"
   ]
  },
  {
   "cell_type": "code",
   "execution_count": null,
   "metadata": {
    "collapsed": false
   },
   "outputs": [],
   "source": [
    "plt.imshow(np.dot(CrossNN.filter_Weights.T[29].reshape(1,box**2),im2col(X[1056].reshape(28,28),box,box)).reshape(24,24))"
   ]
  },
  {
   "cell_type": "code",
   "execution_count": null,
   "metadata": {
    "collapsed": false
   },
   "outputs": [],
   "source": [
    "arr = np.dot(CrossNN.filter_Weights.reshape(30,25),im2col(X[1025],box,box)).reshape(30,24,24)\n",
    "arr2 = np.array(arr[0])\n",
    "for i in range(1,30):\n",
    "    arr2 = np.hstack((arr2,arr[i]))\n",
    "plt.imshow(arr2)\n",
    "print(arr2.shape)"
   ]
  },
  {
   "cell_type": "code",
   "execution_count": null,
   "metadata": {
    "collapsed": true
   },
   "outputs": [],
   "source": []
  }
 ],
 "metadata": {
  "kernelspec": {
   "display_name": "Python 3",
   "language": "python",
   "name": "python3"
  },
  "language_info": {
   "codemirror_mode": {
    "name": "ipython",
    "version": 3
   },
   "file_extension": ".py",
   "mimetype": "text/x-python",
   "name": "python",
   "nbconvert_exporter": "python",
   "pygments_lexer": "ipython3",
   "version": "3.4.4"
  }
 },
 "nbformat": 4,
 "nbformat_minor": 0
}
